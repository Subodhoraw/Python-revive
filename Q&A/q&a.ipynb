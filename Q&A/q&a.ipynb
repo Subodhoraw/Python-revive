{
 "cells": [
  {
   "cell_type": "markdown",
   "id": "96d4f9c5",
   "metadata": {},
   "source": [
    "## Explain list,tuple,dict and set terms of mutability and ypical use cases \n",
    "Answer.\n",
    "list is mutable\n"
   ]
  },
  {
   "cell_type": "code",
   "execution_count": 6,
   "id": "d5d04fd2",
   "metadata": {},
   "outputs": [
    {
     "name": "stdout",
     "output_type": "stream",
     "text": [
      "[1, 2, 3, 4, 5, 6]\n",
      "TypeError: 'tuple' object does not support item assignment\n",
      "(1, 2, 3, 4)\n",
      "{'a': 1, 'b': 2, 'c': 3, 'd': 4}\n",
      "{1, 2, 3, 4}\n"
     ]
    }
   ],
   "source": [
    "#Example.\n",
    "my_list = [1, 2, 3, 4, 5]\n",
    "my_list.append(6)\n",
    "print(my_list)  # Output: [1, 2, 3, 4, 5, 6]\n",
    "# This script appends the number 6 to the end of the list and prints the updated\n",
    "\n",
    "#tuple.\n",
    "my_tuple = (1, 2, 3)\n",
    "try:\n",
    "    my_tuple += (4,)  # Tuples are immutable, so we create a new tuple\n",
    "    my_tuple[0] = 10  # This will raise a TypeError since tuples are immutable\n",
    "except TypeError as e:\n",
    "    print(\"TypeError:\", e)\n",
    "except Exception as e:\n",
    "    print(\"Unexpected error:\", e)\n",
    "print(my_tuple)  # Output: (1, 2, 3, 4\n",
    "\n",
    "mydict = {'a': 1, 'b': 2, 'c': 3, 'd': 7}\n",
    "mydict['d'] = 4\n",
    "print(mydict)  # Output: {'a': 1, 'b': 2, 'c': 3, 'd': 4}\n",
    "\n",
    "#set \n",
    "my_set = {1, 2, 3}\n",
    "my_set.add(4)   \n",
    "print(my_set)  # Output: {1, 2, 3, 4}"
   ]
  },
  {
   "cell_type": "markdown",
   "id": "a140f5dc",
   "metadata": {},
   "source": [
    "## how to iterate over a list also with index, write a function with enamurate_items(lst) and that returns a list of (index) value strings "
   ]
  },
  {
   "cell_type": "code",
   "execution_count": null,
   "id": "bf57910d",
   "metadata": {},
   "outputs": [],
   "source": []
  }
 ],
 "metadata": {
  "kernelspec": {
   "display_name": "Python 3",
   "language": "python",
   "name": "python3"
  },
  "language_info": {
   "codemirror_mode": {
    "name": "ipython",
    "version": 3
   },
   "file_extension": ".py",
   "mimetype": "text/x-python",
   "name": "python",
   "nbconvert_exporter": "python",
   "pygments_lexer": "ipython3",
   "version": "3.13.2"
  }
 },
 "nbformat": 4,
 "nbformat_minor": 5
}
