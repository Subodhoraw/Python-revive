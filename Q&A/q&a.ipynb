{
 "cells": [
  {
   "cell_type": "markdown",
   "id": "96d4f9c5",
   "metadata": {},
   "source": [
    "## Explain list,tuple,dict and set terms of mutability and ypical use cases \n",
    "Answer.\n",
    "list is mutable\n"
   ]
  },
  {
   "cell_type": "code",
   "execution_count": 6,
   "id": "d5d04fd2",
   "metadata": {},
   "outputs": [
    {
     "name": "stdout",
     "output_type": "stream",
     "text": [
      "[1, 2, 3, 4, 5, 6]\n",
      "TypeError: 'tuple' object does not support item assignment\n",
      "(1, 2, 3, 4)\n",
      "{'a': 1, 'b': 2, 'c': 3, 'd': 4}\n",
      "{1, 2, 3, 4}\n"
     ]
    }
   ],
   "source": [
    "#Example.\n",
    "my_list = [1, 2, 3, 4, 5]\n",
    "my_list.append(6)\n",
    "print(my_list)  # Output: [1, 2, 3, 4, 5, 6]\n",
    "# This script appends the number 6 to the end of the list and prints the updated\n",
    "\n",
    "#tuple.\n",
    "my_tuple = (1, 2, 3)\n",
    "try:\n",
    "    my_tuple += (4,)  # Tuples are immutable, so we create a new tuple\n",
    "    my_tuple[0] = 10  # This will raise a TypeError since tuples are immutable\n",
    "except TypeError as e:\n",
    "    print(\"TypeError:\", e)\n",
    "except Exception as e:\n",
    "    print(\"Unexpected error:\", e)\n",
    "print(my_tuple)  # Output: (1, 2, 3, 4\n",
    "\n",
    "mydict = {'a': 1, 'b': 2, 'c': 3, 'd': 7}\n",
    "mydict['d'] = 4\n",
    "print(mydict)  # Output: {'a': 1, 'b': 2, 'c': 3, 'd': 4}\n",
    "\n",
    "#set \n",
    "my_set = {1, 2, 3}\n",
    "my_set.add(4)   \n",
    "print(my_set)  # Output: {1, 2, 3, 4}"
   ]
  },
  {
   "cell_type": "markdown",
   "id": "a140f5dc",
   "metadata": {},
   "source": [
    "## how to iterate over a list also with index, write a function with enamurate_items(lst) and that returns a list of (index) value strings \n",
    "An enumerate is a buitin for indexed iteration."
   ]
  },
  {
   "cell_type": "code",
   "execution_count": 1,
   "id": "bf57910d",
   "metadata": {},
   "outputs": [
    {
     "name": "stdout",
     "output_type": "stream",
     "text": [
      "['tech', 'web']\n",
      "\n",
      " Available themes:\n",
      "1. tech\n",
      "2. web\n"
     ]
    }
   ],
   "source": [
    "theme = {'tech':{'python': '3.8', 'java': '11'},\n",
    "          'web':{'html': '5', 'css': '3'}}\n",
    "them_list = list(theme.keys())\n",
    "print(them_list)  # Output: ['tech', 'web']\n",
    "print(\"\\n Available themes:\")\n",
    "for i, theme in enumerate(them_list, start = 1):\n",
    "    print(f\"{i}. {theme}\")"
   ]
  },
  {
   "cell_type": "code",
   "execution_count": 2,
   "id": "fa019029",
   "metadata": {},
   "outputs": [
    {
     "name": "stdout",
     "output_type": "stream",
     "text": [
      "\n",
      " Available fruits:\n",
      "1.apple\n",
      "2.banana\n",
      "3.cherry\n"
     ]
    }
   ],
   "source": [
    "fruits = ['apple', 'banana', 'cherry']\n",
    "print(\"\\n Available fruits:\")\n",
    "for i , fruit in enumerate(fruits , start = 1):\n",
    "    print(f\"{i}.{fruit}\")\n"
   ]
  },
  {
   "cell_type": "markdown",
   "id": "30aa01d5",
   "metadata": {},
   "source": [
    "### explain how slicing work in python example of reverse slice \n",
    "slicing work in (tuple, list, set)\n",
    "here how its work (start:end:jump)"
   ]
  },
  {
   "cell_type": "code",
   "execution_count": null,
   "id": "97751958",
   "metadata": {},
   "outputs": [
    {
     "name": "stdout",
     "output_type": "stream",
     "text": [
      "[20, 40]\n",
      "[50, 40, 30, 20, 10]\n",
      "(10, 40)\n",
      "[50, 40, 30]\n"
     ]
    }
   ],
   "source": [
    "list1 = [10, 20, 30, 40, 50]\n",
    "print(list1[1:4:2])\n",
    "print(list1[::-1])#reverse the list\n",
    "tuple1 = (10, 20, 30, 40, 50)\n",
    "print(tuple1[0:5:3])\n",
    "set1 = {10, 20, 30, 40, 50}\n",
    "set_list = list(set1)#covert set to list for slicing\n",
    "print(set_list[::2])"
   ]
  },
  {
   "cell_type": "markdown",
   "id": "db8057f8",
   "metadata": {},
   "source": [
    "## what are list comprehensions? convert a for loop that squares number into alist comprehensions. implemeent squares(n) returning [0...n-1]\n",
    "\n",
    "answer - [expression for item in iterable if condition]"
   ]
  },
  {
   "cell_type": "markdown",
   "id": "a1226c41",
   "metadata": {},
   "source": [
    "\"\"\"QQ how insert and append, extend work for with example \"\"\""
   ]
  },
  {
   "cell_type": "code",
   "execution_count": 8,
   "id": "f2fd50ef",
   "metadata": {},
   "outputs": [
    {
     "name": "stdout",
     "output_type": "stream",
     "text": [
      "[1, [1, 3, 5], 2, 3, 4, 5]\n",
      "[1, [1, 3, 5], 2, 3, 4, 5, 5]\n",
      "[1, [1, 3, 5], 2, 3, 4, 5, 5, 1, 3, 5]\n"
     ]
    }
   ],
   "source": [
    "list = [1,2,3,4,5]\n",
    "list2=[1,3,5]\n",
    "list.insert(1,list2)\n",
    "print(list)\n",
    "#append\n",
    "list.append(5)\n",
    "print(list)\n",
    "#extend\n",
    "list.extend(list2)\n",
    "print(list)\n"
   ]
  },
  {
   "cell_type": "markdown",
   "id": "1c836217",
   "metadata": {},
   "source": [
    "list = [1,2,3,4,5]\n",
    "list2=[1,3,5]\n",
    "list.insert(1,list2)\n",
    "print(list)\n",
    "#append\n",
    "list.append(5)\n",
    "print(list)\n",
    "#extend\n",
    "list.extend(list2)\n",
    "print(list)\n"
   ]
  },
  {
   "cell_type": "markdown",
   "id": "ba444ce8",
   "metadata": {},
   "source": [
    "\"\"\" how do you add 2 dictionaries using merge_dicts(a,b) without modifying original\"\"\"\n"
   ]
  },
  {
   "cell_type": "code",
   "execution_count": null,
   "id": "67cab289",
   "metadata": {},
   "outputs": [],
   "source": [
    "dict1 ={'a':1,'b':2,'c':3,'d':5}\n",
    "dict2 = {'b':4,'c':5,'d':7}\n",
    "merged = dict1 | dict2\n",
    "print(merged)\n",
    "merge_dict = {**dict1, **dict2} #** unpack the dict\n",
    "print(merge_dict) \n",
    "merged1 = dict1.copy()\n",
    "merged.update(dict2)\n"
   ]
  },
  {
   "cell_type": "markdown",
   "id": "608ea7fa",
   "metadata": {},
   "source": [
    "## \"\"\"explain exception handling try/except/finally/else. Provide an example that reads and input with with exception handling \"\"\"\n",
    "try:\n",
    "    # Code that might cause an exception\n",
    "except <ErrorType>:\n",
    "    # Code that runs if that error occurs\n",
    "else:\n",
    "    # Runs only if no exception occurs\n",
    "finally:\n",
    "    # Runs no matter what (success or error)\n"
   ]
  },
  {
   "cell_type": "code",
   "execution_count": 10,
   "id": "95c6a5aa",
   "metadata": {},
   "outputs": [
    {
     "name": "stdout",
     "output_type": "stream",
     "text": [
      " 😊Invalied  input please provide valied input \n",
      "Excecution completed\n",
      "Result: None\n"
     ]
    }
   ],
   "source": [
    "def read_int():\n",
    "    try:\n",
    "        num = int(input(\"Enter a number:\"))\n",
    "    except ValueError:\n",
    "        print(\" 😊Invalied  input please provide valied input \")\n",
    "    else:\n",
    "        print(\"you have entered a valied number\")\n",
    "        return num\n",
    "    finally:\n",
    "        print(\"Excecution completed\")\n",
    "\n",
    "result= read_int()\n",
    "print(\"Result:\", result)\n"
   ]
  },
  {
   "cell_type": "markdown",
   "id": "8c475a0d",
   "metadata": {},
   "source": [
    "## what is function and does return do?what happen if function has no return \n",
    "==> function is a block of reusable code that perform specific task.\n",
    "it avoids repeating cose make YOUR PROGRAM ORGANIZED\n",
    "HANDLE COMPLEX LOGIC IN SMALL PIECIES\n",
    "\n",
    "## what does Return do ?\n",
    " the return keyword return excecution from the function back to where it was called.\n",
    "\n",
    " ## what if we dont use return \n",
    " it functions gives back none by default.\n",
    " \n"
   ]
  },
  {
   "cell_type": "code",
   "execution_count": 12,
   "id": "654015a3",
   "metadata": {},
   "outputs": [],
   "source": [
    "#def function_name(parameters):\n",
    "    #code block\n",
    "   # return something\n",
    "   #  \n",
    "def add(a,b):\n",
    "    return a+b\n"
   ]
  },
  {
   "cell_type": "code",
   "execution_count": 13,
   "id": "dbc93b6c",
   "metadata": {},
   "outputs": [
    {
     "name": "stdout",
     "output_type": "stream",
     "text": [
      "8\n"
     ]
    }
   ],
   "source": [
    "result = add(5,3)\n",
    "print(result)"
   ]
  },
  {
   "cell_type": "markdown",
   "id": "dcb6f0bd",
   "metadata": {},
   "source": [
    "## explain default parameter values and the mutable_default gotcha(show exaple bug) \n",
    "## what are default paramemters?\n",
    "it define a fallback value for function arguement so yoou dont have to pass it everytime\n",
    "Imagine a shared shopping cart 🛒 used by everyone —\n",
    "if you don’t start with your own empty cart,\n",
    "your items get mixed up with everyone else’s!\n",
    "\n",
    "That’s exactly what happens when you use a mutable default in Python.\n"
   ]
  },
  {
   "cell_type": "code",
   "execution_count": 14,
   "id": "a7af480f",
   "metadata": {},
   "outputs": [
    {
     "name": "stdout",
     "output_type": "stream",
     "text": [
      "hello,subodh!\n"
     ]
    }
   ],
   "source": [
    "def greet(name =\"guest\"):\n",
    "    print(f\"hello,{name}!\")\n",
    "greet(\"subodh\")"
   ]
  },
  {
   "cell_type": "code",
   "execution_count": null,
   "id": "bd357b04",
   "metadata": {},
   "outputs": [
    {
     "name": "stdout",
     "output_type": "stream",
     "text": [
      "['apple']\n",
      "['apple', 'banana']\n",
      "['apple', 'banana', 'cherry']\n"
     ]
    }
   ],
   "source": [
    "# here is a bug \n",
    "def add_item(item, items =[]):\n",
    "    items.append(item)\n",
    "    return items\n",
    "\n",
    "#now see what happens \n",
    "print(add_item(\"apple\"))\n",
    "print(add_item(\"banana\"))\n",
    "print(add_item(\"cherry\"))\n",
    "#its wrong its gonna mess up all\n",
    "\n"
   ]
  },
  {
   "cell_type": "code",
   "execution_count": 18,
   "id": "7eb4522c",
   "metadata": {},
   "outputs": [
    {
     "name": "stdout",
     "output_type": "stream",
     "text": [
      "['apple']\n",
      "['honey']\n"
     ]
    }
   ],
   "source": [
    "## correct way\n",
    "def add_item(item, items= None):\n",
    "    if items is None:\n",
    "        items=[] # create new list each time \n",
    "    items.append(item)\n",
    "    return items\n",
    "#now \n",
    "print(add_item(\"apple\"))\n",
    "print (add_item(\"honey\"))\n",
    "      "
   ]
  },
  {
   "cell_type": "markdown",
   "id": "ad143f06",
   "metadata": {},
   "source": [
    "## what is variable scope? Define LEGB and give one example showing local and global\n",
    "\n",
    "### ans: Scope means where in your code a variable is a visible and accessible.\n",
    "### in python, not all veriables are accesble eveywhere some are in the local and some are global(accessible everywhere)\n",
    "\n",
    "## 🧩 The LEGB Rule\n",
    "L as Local inside the current function\n",
    "E as enclosing in any outer function (if nested function exist)\n",
    "G as clobal defined at the top level of the script/ module\n",
    "B as Built-in Python's reserved names (like len,range,sum)\n"
   ]
  },
  {
   "cell_type": "code",
   "execution_count": null,
   "id": "40fb84c0",
   "metadata": {},
   "outputs": [
    {
     "name": "stdout",
     "output_type": "stream",
     "text": [
      "outside function: 10\n",
      "inside: 1\n",
      "Outside: 1\n"
     ]
    }
   ],
   "source": [
    "x = 10 #global variable\n",
    "\n",
    "def my_function():\n",
    "    x = 5 #local variable\n",
    "    print(\"Inside function:\",x)\n",
    "\n",
    "print(\"outside function:\",x )\n",
    "\n",
    "#using global \n",
    "# if we want to modify a global variable inside a function must explicitly it as global\n",
    "count = 0 \n",
    "\n",
    "def increment():\n",
    "    global count\n",
    "    count += 1\n",
    "    print(\"inside:\",count)\n",
    "increment()\n",
    "print(\"Outside:\",count)\n",
    "#Without the global keyword, Python would think count is a new local variable and raise:\n"
   ]
  },
  {
   "cell_type": "code",
   "execution_count": 23,
   "id": "c0e7b899",
   "metadata": {},
   "outputs": [
    {
     "name": "stdout",
     "output_type": "stream",
     "text": [
      "outer variable\n"
     ]
    }
   ],
   "source": [
    "def outer():\n",
    "    msg = \"outer variable\"\n",
    "\n",
    "    def inner():\n",
    "        print(msg)  # found in enclosing scope\n",
    "\n",
    "    inner()\n",
    "\n",
    "outer()\n"
   ]
  },
  {
   "cell_type": "markdown",
   "id": "c564a5c9",
   "metadata": {},
   "source": [
    "## what is __name__ == \" __main__\" used for ? give example script that can be imported or run.\n",
    "🧠 What does __name__ mean?\n",
    "\n",
    "Every Python file (module) automatically gets a special built-in variable called __name__.\n",
    "\n",
    "When the file is run directly, Python sets __name__ = \"__main__\".\n",
    "\n",
    "When the file is imported into another script, __name__ becomes the module’s name (the filename)."
   ]
  },
  {
   "cell_type": "code",
   "execution_count": null,
   "id": "f2dfc3fe",
   "metadata": {},
   "outputs": [],
   "source": [
    "#example file1.\n"
   ]
  },
  {
   "cell_type": "markdown",
   "id": "04cf3812",
   "metadata": {},
   "source": [
    "## Explain *args and **kwargs with an example function that accepts implement build_url(base,**params) that returns url with query string \n",
    "\n",
    "### *args -non-keywords arguments\n",
    "used to pass any number of positional arguments to function it collects them intp tuples "
   ]
  },
  {
   "cell_type": "code",
   "execution_count": 26,
   "id": "da715c3d",
   "metadata": {},
   "outputs": [
    {
     "name": "stdout",
     "output_type": "stream",
     "text": [
      "('Alice', 'bob', 'charlie')\n",
      "{'name': 'Alice', 'age': 20, 'cuorse': 'ai'}\n"
     ]
    }
   ],
   "source": [
    "def show_students(*args):\n",
    "    print(args)\n",
    "\n",
    "show_students(\"Alice\",\"bob\",\"charlie\")\n",
    "def show_students_info(**kwargs):\n",
    "    print(kwargs)\n",
    "show_students_info(name = \"Alice\", age = 20, cuorse = \"ai\")"
   ]
  },
  {
   "cell_type": "markdown",
   "id": "8c67893c",
   "metadata": {},
   "source": [
    "## what is module and packages.\n",
    "\n"
   ]
  },
  {
   "cell_type": "markdown",
   "id": "7a73082e",
   "metadata": {},
   "source": [
    "## Explain help() and dir()built-in and when to use ??\n",
    "\n",
    "### help() and dir() - builtin introspection tools\n",
    "these 2 are python self discovery tools that help you inspect objects module, function, or classes without checking documentation online\n",
    "\n",
    "### help()\n",
    "#### Displays the docstring (help text) of a module, class, function, or object.\n",
    "It explains what it does, its parameters, and sometimes examples.\n"
   ]
  },
  {
   "cell_type": "code",
   "execution_count": 27,
   "id": "3aba034c",
   "metadata": {},
   "outputs": [
    {
     "name": "stdout",
     "output_type": "stream",
     "text": [
      "Help on built-in function print in module builtins:\n",
      "\n",
      "print(*args, sep=' ', end='\\n', file=None, flush=False)\n",
      "    Prints the values to a stream, or to sys.stdout by default.\n",
      "\n",
      "    sep\n",
      "      string inserted between values, default a space.\n",
      "    end\n",
      "      string appended after the last value, default a newline.\n",
      "    file\n",
      "      a file-like object (stream); defaults to the current sys.stdout.\n",
      "    flush\n",
      "      whether to forcibly flush the stream.\n",
      "\n"
     ]
    }
   ],
   "source": [
    "help(print)"
   ]
  },
  {
   "cell_type": "code",
   "execution_count": 28,
   "id": "b4769e93",
   "metadata": {},
   "outputs": [
    {
     "name": "stdout",
     "output_type": "stream",
     "text": [
      "Help on built-in module math:\n",
      "\n",
      "NAME\n",
      "    math\n",
      "\n",
      "DESCRIPTION\n",
      "    This module provides access to the mathematical functions\n",
      "    defined by the C standard.\n",
      "\n",
      "FUNCTIONS\n",
      "    acos(x, /)\n",
      "        Return the arc cosine (measured in radians) of x.\n",
      "\n",
      "        The result is between 0 and pi.\n",
      "\n",
      "    acosh(x, /)\n",
      "        Return the inverse hyperbolic cosine of x.\n",
      "\n",
      "    asin(x, /)\n",
      "        Return the arc sine (measured in radians) of x.\n",
      "\n",
      "        The result is between -pi/2 and pi/2.\n",
      "\n",
      "    asinh(x, /)\n",
      "        Return the inverse hyperbolic sine of x.\n",
      "\n",
      "    atan(x, /)\n",
      "        Return the arc tangent (measured in radians) of x.\n",
      "\n",
      "        The result is between -pi/2 and pi/2.\n",
      "\n",
      "    atan2(y, x, /)\n",
      "        Return the arc tangent (measured in radians) of y/x.\n",
      "\n",
      "        Unlike atan(y/x), the signs of both x and y are considered.\n",
      "\n",
      "    atanh(x, /)\n",
      "        Return the inverse hyperbolic tangent of x.\n",
      "\n",
      "    cbrt(x, /)\n",
      "        Return the cube root of x.\n",
      "\n",
      "    ceil(x, /)\n",
      "        Return the ceiling of x as an Integral.\n",
      "\n",
      "        This is the smallest integer >= x.\n",
      "\n",
      "    comb(n, k, /)\n",
      "        Number of ways to choose k items from n items without repetition and without order.\n",
      "\n",
      "        Evaluates to n! / (k! * (n - k)!) when k <= n and evaluates\n",
      "        to zero when k > n.\n",
      "\n",
      "        Also called the binomial coefficient because it is equivalent\n",
      "        to the coefficient of k-th term in polynomial expansion of the\n",
      "        expression (1 + x)**n.\n",
      "\n",
      "        Raises TypeError if either of the arguments are not integers.\n",
      "        Raises ValueError if either of the arguments are negative.\n",
      "\n",
      "    copysign(x, y, /)\n",
      "        Return a float with the magnitude (absolute value) of x but the sign of y.\n",
      "\n",
      "        On platforms that support signed zeros, copysign(1.0, -0.0)\n",
      "        returns -1.0.\n",
      "\n",
      "    cos(x, /)\n",
      "        Return the cosine of x (measured in radians).\n",
      "\n",
      "    cosh(x, /)\n",
      "        Return the hyperbolic cosine of x.\n",
      "\n",
      "    degrees(x, /)\n",
      "        Convert angle x from radians to degrees.\n",
      "\n",
      "    dist(p, q, /)\n",
      "        Return the Euclidean distance between two points p and q.\n",
      "\n",
      "        The points should be specified as sequences (or iterables) of\n",
      "        coordinates.  Both inputs must have the same dimension.\n",
      "\n",
      "        Roughly equivalent to:\n",
      "            sqrt(sum((px - qx) ** 2.0 for px, qx in zip(p, q)))\n",
      "\n",
      "    erf(x, /)\n",
      "        Error function at x.\n",
      "\n",
      "    erfc(x, /)\n",
      "        Complementary error function at x.\n",
      "\n",
      "    exp(x, /)\n",
      "        Return e raised to the power of x.\n",
      "\n",
      "    exp2(x, /)\n",
      "        Return 2 raised to the power of x.\n",
      "\n",
      "    expm1(x, /)\n",
      "        Return exp(x)-1.\n",
      "\n",
      "        This function avoids the loss of precision involved in the direct evaluation of exp(x)-1 for small x.\n",
      "\n",
      "    fabs(x, /)\n",
      "        Return the absolute value of the float x.\n",
      "\n",
      "    factorial(n, /)\n",
      "        Find n!.\n",
      "\n",
      "        Raise a ValueError if x is negative or non-integral.\n",
      "\n",
      "    floor(x, /)\n",
      "        Return the floor of x as an Integral.\n",
      "\n",
      "        This is the largest integer <= x.\n",
      "\n",
      "    fma(x, y, z, /)\n",
      "        Fused multiply-add operation.\n",
      "\n",
      "        Compute (x * y) + z with a single round.\n",
      "\n",
      "    fmod(x, y, /)\n",
      "        Return fmod(x, y), according to platform C.\n",
      "\n",
      "        x % y may differ.\n",
      "\n",
      "    frexp(x, /)\n",
      "        Return the mantissa and exponent of x, as pair (m, e).\n",
      "\n",
      "        m is a float and e is an int, such that x = m * 2.**e.\n",
      "        If x is 0, m and e are both 0.  Else 0.5 <= abs(m) < 1.0.\n",
      "\n",
      "    fsum(seq, /)\n",
      "        Return an accurate floating-point sum of values in the iterable seq.\n",
      "\n",
      "        Assumes IEEE-754 floating-point arithmetic.\n",
      "\n",
      "    gamma(x, /)\n",
      "        Gamma function at x.\n",
      "\n",
      "    gcd(*integers)\n",
      "        Greatest Common Divisor.\n",
      "\n",
      "    hypot(...)\n",
      "        hypot(*coordinates) -> value\n",
      "\n",
      "        Multidimensional Euclidean distance from the origin to a point.\n",
      "\n",
      "        Roughly equivalent to:\n",
      "            sqrt(sum(x**2 for x in coordinates))\n",
      "\n",
      "        For a two dimensional point (x, y), gives the hypotenuse\n",
      "        using the Pythagorean theorem:  sqrt(x*x + y*y).\n",
      "\n",
      "        For example, the hypotenuse of a 3/4/5 right triangle is:\n",
      "\n",
      "            >>> hypot(3.0, 4.0)\n",
      "            5.0\n",
      "\n",
      "    isclose(a, b, *, rel_tol=1e-09, abs_tol=0.0)\n",
      "        Determine whether two floating-point numbers are close in value.\n",
      "\n",
      "          rel_tol\n",
      "            maximum difference for being considered \"close\", relative to the\n",
      "            magnitude of the input values\n",
      "          abs_tol\n",
      "            maximum difference for being considered \"close\", regardless of the\n",
      "            magnitude of the input values\n",
      "\n",
      "        Return True if a is close in value to b, and False otherwise.\n",
      "\n",
      "        For the values to be considered close, the difference between them\n",
      "        must be smaller than at least one of the tolerances.\n",
      "\n",
      "        -inf, inf and NaN behave similarly to the IEEE 754 Standard.  That\n",
      "        is, NaN is not close to anything, even itself.  inf and -inf are\n",
      "        only close to themselves.\n",
      "\n",
      "    isfinite(x, /)\n",
      "        Return True if x is neither an infinity nor a NaN, and False otherwise.\n",
      "\n",
      "    isinf(x, /)\n",
      "        Return True if x is a positive or negative infinity, and False otherwise.\n",
      "\n",
      "    isnan(x, /)\n",
      "        Return True if x is a NaN (not a number), and False otherwise.\n",
      "\n",
      "    isqrt(n, /)\n",
      "        Return the integer part of the square root of the input.\n",
      "\n",
      "    lcm(*integers)\n",
      "        Least Common Multiple.\n",
      "\n",
      "    ldexp(x, i, /)\n",
      "        Return x * (2**i).\n",
      "\n",
      "        This is essentially the inverse of frexp().\n",
      "\n",
      "    lgamma(x, /)\n",
      "        Natural logarithm of absolute value of Gamma function at x.\n",
      "\n",
      "    log(...)\n",
      "        log(x, [base=math.e])\n",
      "        Return the logarithm of x to the given base.\n",
      "\n",
      "        If the base is not specified, returns the natural logarithm (base e) of x.\n",
      "\n",
      "    log10(x, /)\n",
      "        Return the base 10 logarithm of x.\n",
      "\n",
      "    log1p(x, /)\n",
      "        Return the natural logarithm of 1+x (base e).\n",
      "\n",
      "        The result is computed in a way which is accurate for x near zero.\n",
      "\n",
      "    log2(x, /)\n",
      "        Return the base 2 logarithm of x.\n",
      "\n",
      "    modf(x, /)\n",
      "        Return the fractional and integer parts of x.\n",
      "\n",
      "        Both results carry the sign of x and are floats.\n",
      "\n",
      "    nextafter(x, y, /, *, steps=None)\n",
      "        Return the floating-point value the given number of steps after x towards y.\n",
      "\n",
      "        If steps is not specified or is None, it defaults to 1.\n",
      "\n",
      "        Raises a TypeError, if x or y is not a double, or if steps is not an integer.\n",
      "        Raises ValueError if steps is negative.\n",
      "\n",
      "    perm(n, k=None, /)\n",
      "        Number of ways to choose k items from n items without repetition and with order.\n",
      "\n",
      "        Evaluates to n! / (n - k)! when k <= n and evaluates\n",
      "        to zero when k > n.\n",
      "\n",
      "        If k is not specified or is None, then k defaults to n\n",
      "        and the function returns n!.\n",
      "\n",
      "        Raises TypeError if either of the arguments are not integers.\n",
      "        Raises ValueError if either of the arguments are negative.\n",
      "\n",
      "    pow(x, y, /)\n",
      "        Return x**y (x to the power of y).\n",
      "\n",
      "    prod(iterable, /, *, start=1)\n",
      "        Calculate the product of all the elements in the input iterable.\n",
      "\n",
      "        The default start value for the product is 1.\n",
      "\n",
      "        When the iterable is empty, return the start value.  This function is\n",
      "        intended specifically for use with numeric values and may reject\n",
      "        non-numeric types.\n",
      "\n",
      "    radians(x, /)\n",
      "        Convert angle x from degrees to radians.\n",
      "\n",
      "    remainder(x, y, /)\n",
      "        Difference between x and the closest integer multiple of y.\n",
      "\n",
      "        Return x - n*y where n*y is the closest integer multiple of y.\n",
      "        In the case where x is exactly halfway between two multiples of\n",
      "        y, the nearest even value of n is used. The result is always exact.\n",
      "\n",
      "    sin(x, /)\n",
      "        Return the sine of x (measured in radians).\n",
      "\n",
      "    sinh(x, /)\n",
      "        Return the hyperbolic sine of x.\n",
      "\n",
      "    sqrt(x, /)\n",
      "        Return the square root of x.\n",
      "\n",
      "    sumprod(p, q, /)\n",
      "        Return the sum of products of values from two iterables p and q.\n",
      "\n",
      "        Roughly equivalent to:\n",
      "\n",
      "            sum(itertools.starmap(operator.mul, zip(p, q, strict=True)))\n",
      "\n",
      "        For float and mixed int/float inputs, the intermediate products\n",
      "        and sums are computed with extended precision.\n",
      "\n",
      "    tan(x, /)\n",
      "        Return the tangent of x (measured in radians).\n",
      "\n",
      "    tanh(x, /)\n",
      "        Return the hyperbolic tangent of x.\n",
      "\n",
      "    trunc(x, /)\n",
      "        Truncates the Real x to the nearest Integral toward 0.\n",
      "\n",
      "        Uses the __trunc__ magic method.\n",
      "\n",
      "    ulp(x, /)\n",
      "        Return the value of the least significant bit of the float x.\n",
      "\n",
      "DATA\n",
      "    e = 2.718281828459045\n",
      "    inf = inf\n",
      "    nan = nan\n",
      "    pi = 3.141592653589793\n",
      "    tau = 6.283185307179586\n",
      "\n",
      "FILE\n",
      "    (built-in)\n",
      "\n",
      "\n"
     ]
    }
   ],
   "source": [
    "import math\n",
    "help(math)"
   ]
  },
  {
   "cell_type": "markdown",
   "id": "3437f427",
   "metadata": {},
   "source": [
    "## dir()\n",
    "\n",
    "#### returns a list of all names(attributes,methods,variables) defined inside an object"
   ]
  },
  {
   "cell_type": "code",
   "execution_count": 29,
   "id": "79e4187d",
   "metadata": {},
   "outputs": [
    {
     "name": "stdout",
     "output_type": "stream",
     "text": [
      "['__add__', '__class__', '__class_getitem__', '__contains__', '__delattr__', '__delitem__', '__dir__', '__doc__', '__eq__', '__format__', '__ge__', '__getattribute__', '__getitem__', '__getstate__', '__gt__', '__hash__', '__iadd__', '__imul__', '__init__', '__init_subclass__', '__iter__', '__le__', '__len__', '__lt__', '__mul__', '__ne__', '__new__', '__reduce__', '__reduce_ex__', '__repr__', '__reversed__', '__rmul__', '__setattr__', '__setitem__', '__sizeof__', '__str__', '__subclasshook__', 'append', 'clear', 'copy', 'count', 'extend', 'index', 'insert', 'pop', 'remove', 'reverse', 'sort']\n"
     ]
    }
   ],
   "source": [
    "numbers= [1,2,3,4]\n",
    "print(dir(numbers))"
   ]
  },
  {
   "cell_type": "code",
   "execution_count": 30,
   "id": "22b878aa",
   "metadata": {},
   "outputs": [
    {
     "name": "stdout",
     "output_type": "stream",
     "text": [
      "['__doc__', '__loader__', '__name__', '__package__', '__spec__', 'acos', 'acosh', 'asin', 'asinh', 'atan', 'atan2', 'atanh', 'cbrt', 'ceil', 'comb', 'copysign', 'cos', 'cosh', 'degrees', 'dist', 'e', 'erf', 'erfc', 'exp', 'exp2', 'expm1', 'fabs', 'factorial', 'floor', 'fma', 'fmod', 'frexp', 'fsum', 'gamma', 'gcd', 'hypot', 'inf', 'isclose', 'isfinite', 'isinf', 'isnan', 'isqrt', 'lcm', 'ldexp', 'lgamma', 'log', 'log10', 'log1p', 'log2', 'modf', 'nan', 'nextafter', 'perm', 'pi', 'pow', 'prod', 'radians', 'remainder', 'sin', 'sinh', 'sqrt', 'sumprod', 'tan', 'tanh', 'tau', 'trunc', 'ulp']\n"
     ]
    }
   ],
   "source": [
    "import math\n",
    "print(dir(math))"
   ]
  },
  {
   "cell_type": "markdown",
   "id": "922a56fc",
   "metadata": {},
   "source": [
    "### what does with statement used for file handling ? why prefer it ? write read_lines (path) teturning list of lines safely.\n",
    "🧠 What Does the with Statement Do?\n",
    "\n",
    "The with statement is used to automatically manage resources —\n",
    "especially files — so you don’t have to manually close them.\n",
    "\n",
    "When you use with open(...) as f:, Python will:\n",
    "\n",
    "Open the file\n",
    "\n",
    "Let you work with it\n",
    "\n",
    "Automatically close it, even if an error occurs"
   ]
  },
  {
   "cell_type": "code",
   "execution_count": null,
   "id": "8ab03a32",
   "metadata": {},
   "outputs": [],
   "source": []
  }
 ],
 "metadata": {
  "kernelspec": {
   "display_name": "Python 3",
   "language": "python",
   "name": "python3"
  },
  "language_info": {
   "codemirror_mode": {
    "name": "ipython",
    "version": 3
   },
   "file_extension": ".py",
   "mimetype": "text/x-python",
   "name": "python",
   "nbconvert_exporter": "python",
   "pygments_lexer": "ipython3",
   "version": "3.13.2"
  }
 },
 "nbformat": 4,
 "nbformat_minor": 5
}
